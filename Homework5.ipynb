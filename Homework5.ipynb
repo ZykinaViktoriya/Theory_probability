{
  "nbformat": 4,
  "nbformat_minor": 0,
  "metadata": {
    "colab": {
      "provenance": [],
      "authorship_tag": "ABX9TyNeef54ltbloHjx6jyE8Zip",
      "include_colab_link": true
    },
    "kernelspec": {
      "name": "python3",
      "display_name": "Python 3"
    },
    "language_info": {
      "name": "python"
    }
  },
  "cells": [
    {
      "cell_type": "markdown",
      "metadata": {
        "id": "view-in-github",
        "colab_type": "text"
      },
      "source": [
        "<a href=\"https://colab.research.google.com/github/ZykinaViktoriya/Theory_probability/blob/main/Homework5.ipynb\" target=\"_parent\"><img src=\"https://colab.research.google.com/assets/colab-badge.svg\" alt=\"Open In Colab\"/></a>"
      ]
    },
    {
      "cell_type": "markdown",
      "source": [
        "Задача 1. Критерий Стьюдента используется если сигма генеральной совокупности неизвестна. Если же сигма генеральной совокупности нам известна, мы используем Z критерий."
      ],
      "metadata": {
        "id": "WnzXibDE-x4P"
      }
    },
    {
      "cell_type": "markdown",
      "source": [
        "Задача 2. Проведите тест гипотезы. Утверждается, что шарики для подшипников, изготовленные автоматическим станком, имеют средний диаметр 17 мм. Используя односторонний критерий с α=0,05, проверить эту гипотезу, если в выборке из n=100 шариков средний диаметр оказался равным 17.5 мм, а дисперсия известна и равна 4 кв. мм"
      ],
      "metadata": {
        "id": "k0ORs2wH_KkT"
      }
    },
    {
      "cell_type": "markdown",
      "source": [
        "H0: mu = 17\n",
        "\n",
        "H1: mu > 17"
      ],
      "metadata": {
        "id": "Ehj8VgVY_WcD"
      }
    },
    {
      "cell_type": "code",
      "source": [
        "from scipy.stats.distributions import alpha\n",
        "mu = 17\n",
        "sigma = np.sqrt(4)\n",
        "n = 100\n",
        "alpha = 0.05\n",
        "x_mean = 17.5"
      ],
      "metadata": {
        "id": "AtIiFdY__pZT"
      },
      "execution_count": 6,
      "outputs": []
    },
    {
      "cell_type": "code",
      "source": [
        "t1 = stats.norm.ppf(1 - alpha)\n",
        "t1"
      ],
      "metadata": {
        "colab": {
          "base_uri": "https://localhost:8080/"
        },
        "id": "7YApDpAL_QyH",
        "outputId": "60abce14-c08f-48d9-950c-6eaaf1694360"
      },
      "execution_count": 7,
      "outputs": [
        {
          "output_type": "execute_result",
          "data": {
            "text/plain": [
              "1.6448536269514722"
            ]
          },
          "metadata": {},
          "execution_count": 7
        }
      ]
    },
    {
      "cell_type": "code",
      "execution_count": 8,
      "metadata": {
        "colab": {
          "base_uri": "https://localhost:8080/"
        },
        "id": "smFpaug5-vHD",
        "outputId": "e8555558-c224-49d8-a3bf-6c344b5c8e7a"
      },
      "outputs": [
        {
          "output_type": "execute_result",
          "data": {
            "text/plain": [
              "2.5"
            ]
          },
          "metadata": {},
          "execution_count": 8
        }
      ],
      "source": [
        "z_em = (x_mean - mu) / (sigma / np.sqrt(n))\n",
        "z_em"
      ]
    },
    {
      "cell_type": "code",
      "source": [
        "p_right = 1 - stats.norm.cdf(z_em)\n",
        "p_right"
      ],
      "metadata": {
        "colab": {
          "base_uri": "https://localhost:8080/"
        },
        "id": "299cAIS-pjHe",
        "outputId": "94b4566c-860b-4939-b5c7-88e1218c663d"
      },
      "execution_count": 9,
      "outputs": [
        {
          "output_type": "execute_result",
          "data": {
            "text/plain": [
              "0.006209665325776159"
            ]
          },
          "metadata": {},
          "execution_count": 9
        }
      ]
    },
    {
      "cell_type": "markdown",
      "source": [
        "z принадлежит критической области, гипотеза Н0 отвергается"
      ],
      "metadata": {
        "id": "2wyocQRsAhxK"
      }
    },
    {
      "cell_type": "markdown",
      "source": [
        "Задача 3. Проведите тест гипотезы. Продавец утверждает, что средний вес пачки печенья составляет 200 г. Из партии извлечена выборка из 10 пачек. Вес каждой пачки составляет: 202, 203, 199, 197, 195, 201, 200, 204, 194, 190. Известно, что их веса распределены нормально. Верно ли утверждение продавца, если учитывать, что доверительная вероятность равна 99%?"
      ],
      "metadata": {
        "id": "To4UtpigAqAc"
      }
    },
    {
      "cell_type": "markdown",
      "source": [
        "H0: mu = 200\n",
        "\n",
        "H1: mu != 200"
      ],
      "metadata": {
        "id": "G8HDVNAtAzA_"
      }
    },
    {
      "cell_type": "code",
      "source": [
        "alpha2 = 0.01\n",
        "n = 10\n",
        "mu = 200"
      ],
      "metadata": {
        "id": "bKwFtlT9mtjU"
      },
      "execution_count": 1,
      "outputs": []
    },
    {
      "cell_type": "code",
      "source": [
        "from scipy import stats\n",
        "import numpy as np\n",
        "samples = np.array([202, 203, 199, 197, 195, 201, 200, 204, 194, 190])"
      ],
      "metadata": {
        "id": "2ksWNpt0m02c"
      },
      "execution_count": 2,
      "outputs": []
    },
    {
      "cell_type": "code",
      "source": [
        "sigma = samples.std(ddof = 1)\n",
        "x_mean = samples.mean()\n",
        "sigma, x_mean"
      ],
      "metadata": {
        "colab": {
          "base_uri": "https://localhost:8080/"
        },
        "id": "SO8q6O2nnKnO",
        "outputId": "d6beb3f5-f5c5-4024-9318-e05651d2d9b6"
      },
      "execution_count": 3,
      "outputs": [
        {
          "output_type": "execute_result",
          "data": {
            "text/plain": [
              "(4.453463071962462, 198.5)"
            ]
          },
          "metadata": {},
          "execution_count": 3
        }
      ]
    },
    {
      "cell_type": "code",
      "source": [
        "t1 = stats.t.ppf(alpha2 / 2, df = n - 1)\n",
        "t2 = stats.t.ppf(1 - alpha2 / 2, df = n - 1)\n",
        "t1, t2"
      ],
      "metadata": {
        "colab": {
          "base_uri": "https://localhost:8080/"
        },
        "id": "_SegeG_RnqQu",
        "outputId": "3e59f889-e746-4b43-f564-94bc1f381dfd"
      },
      "execution_count": 4,
      "outputs": [
        {
          "output_type": "execute_result",
          "data": {
            "text/plain": [
              "(-3.24983554401537, 3.2498355440153697)"
            ]
          },
          "metadata": {},
          "execution_count": 4
        }
      ]
    },
    {
      "cell_type": "code",
      "source": [
        "t_em = (x_mean - mu) / (sigma / np.sqrt(n))\n",
        "t_em"
      ],
      "metadata": {
        "colab": {
          "base_uri": "https://localhost:8080/"
        },
        "id": "RMOfSlXUoJ9t",
        "outputId": "4e9edc16-26f2-4d70-a326-81af4e6853c7"
      },
      "execution_count": 5,
      "outputs": [
        {
          "output_type": "execute_result",
          "data": {
            "text/plain": [
              "-1.0651074037450896"
            ]
          },
          "metadata": {},
          "execution_count": 5
        }
      ]
    },
    {
      "cell_type": "markdown",
      "source": [
        "t не принадлежит критической области, значит гипотеза Н0 не отвергается"
      ],
      "metadata": {
        "id": "jttjTLZfBj21"
      }
    },
    {
      "cell_type": "markdown",
      "source": [
        "Задача 4.Есть ли статистически значимые различия в росте дочерей? Рост матерей 172, 177, 158, 170, 178,175, 164, 160, 169, 165 Рост взрослых дочерей: 173, 175, 162, 174, 175, 168, 155, 170, 160\n",
        "\n",
        "Н0: различий нет\n",
        "\n",
        "Н1: различия есть"
      ],
      "metadata": {
        "id": "GtXsB3MPBzS7"
      }
    },
    {
      "cell_type": "code",
      "source": [
        "import numpy as np\n",
        "from scipy import stats\n",
        "\n",
        "x = np.array([172, 177, 158, 170, 178, 175, 164, 160, 169, 165])\n",
        "y = np.array([173, 175, 162, 174, 175, 168, 155, 170, 160, 163])\n",
        "\n",
        "stats.ttest_rel(x, y)"
      ],
      "metadata": {
        "colab": {
          "base_uri": "https://localhost:8080/"
        },
        "id": "Z-EtyVZUqWgy",
        "outputId": "fd3dd7b8-80fd-40ee-feb2-b4a93cfa4e9c"
      },
      "execution_count": 11,
      "outputs": [
        {
          "output_type": "execute_result",
          "data": {
            "text/plain": [
              "TtestResult(statistic=0.6648478531431979, pvalue=0.5228168632983574, df=9)"
            ]
          },
          "metadata": {},
          "execution_count": 11
        }
      ]
    },
    {
      "cell_type": "markdown",
      "source": [
        "p-value > alpha , значит гипотеза Н0 не отвергается"
      ],
      "metadata": {
        "id": "d9CFQPtSrM6R"
      }
    }
  ]
}