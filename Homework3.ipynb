{
  "nbformat": 4,
  "nbformat_minor": 0,
  "metadata": {
    "colab": {
      "provenance": [],
      "authorship_tag": "ABX9TyPa19bON7DbdTNhiBLBhLN9",
      "include_colab_link": true
    },
    "kernelspec": {
      "name": "python3",
      "display_name": "Python 3"
    },
    "language_info": {
      "name": "python"
    }
  },
  "cells": [
    {
      "cell_type": "markdown",
      "metadata": {
        "id": "view-in-github",
        "colab_type": "text"
      },
      "source": [
        "<a href=\"https://colab.research.google.com/github/ZykinaViktoriya/Theory_probability/blob/main/Homework3.ipynb\" target=\"_parent\"><img src=\"https://colab.research.google.com/assets/colab-badge.svg\" alt=\"Open In Colab\"/></a>"
      ]
    },
    {
      "cell_type": "markdown",
      "source": [
        "**Задача 1. Даны значения зарплат из выборки выпускников: 100, 80, 75, 77, 89, 33, 45, 25, 65, 17, 30, 24, 57, 55, 70, 75, 65, 84, 90, 150. Посчитать (желательно без использования статистических методов наподобие std, var, mean) среднее арифметическое, среднее квадратичное отклонение, смещенную и несмещенную оценки дисперсий для данной выборки.**"
      ],
      "metadata": {
        "id": "1Y11Vfly9Vba"
      }
    },
    {
      "cell_type": "code",
      "source": [
        "import numpy as np\n",
        "import pandas as pd"
      ],
      "metadata": {
        "id": "Uh4Tvtr4_y7Q"
      },
      "execution_count": null,
      "outputs": []
    },
    {
      "cell_type": "code",
      "execution_count": null,
      "metadata": {
        "id": "qUMz1cWt9M4_"
      },
      "outputs": [],
      "source": [
        "salary =pd.Series([100, 80, 75, 77, 89, 33, 45, 25, 65, 17, 30, 24, 57, 55, 70, 75, 65, 84, 90, 150])"
      ]
    },
    {
      "cell_type": "code",
      "source": [
        "average = sum(salary) / len(salary)\n",
        "print(average)"
      ],
      "metadata": {
        "colab": {
          "base_uri": "https://localhost:8080/"
        },
        "id": "DW06AdHB_cZf",
        "outputId": "f0002ce4-0966-4876-9dca-e142892f6b22"
      },
      "execution_count": null,
      "outputs": [
        {
          "output_type": "stream",
          "name": "stdout",
          "text": [
            "65.3\n"
          ]
        }
      ]
    },
    {
      "cell_type": "code",
      "source": [
        "standart_deviation = np.sqrt(sum((salary - average) ** 2) / len(salary))\n",
        "print(standart_deviation)"
      ],
      "metadata": {
        "colab": {
          "base_uri": "https://localhost:8080/"
        },
        "id": "9V9QLsn_DaWE",
        "outputId": "97e30e3d-d8cb-4764-f433-8e8280fff623"
      },
      "execution_count": null,
      "outputs": [
        {
          "output_type": "stream",
          "name": "stdout",
          "text": [
            "30.823854398825596\n"
          ]
        }
      ]
    },
    {
      "cell_type": "code",
      "source": [
        "shifted_variance = sum((salary - average) ** 2) / len(salary)\n",
        "print(shifted_variance)"
      ],
      "metadata": {
        "colab": {
          "base_uri": "https://localhost:8080/"
        },
        "id": "Sq9ccRpiQJiB",
        "outputId": "69bc367c-003e-45d6-c8a6-553ad6fd862f"
      },
      "execution_count": null,
      "outputs": [
        {
          "output_type": "stream",
          "name": "stdout",
          "text": [
            "950.11\n"
          ]
        }
      ]
    },
    {
      "cell_type": "code",
      "source": [
        "unbiased_variance = sum((salary - average) ** 2) / (len(salary)-1)\n",
        "print(unbiased_variance)"
      ],
      "metadata": {
        "colab": {
          "base_uri": "https://localhost:8080/"
        },
        "id": "GxmApXckQq6e",
        "outputId": "2bbb1011-be17-462e-be80-890ab8c4f8b5"
      },
      "execution_count": null,
      "outputs": [
        {
          "output_type": "stream",
          "name": "stdout",
          "text": [
            "1000.1157894736842\n"
          ]
        }
      ]
    },
    {
      "cell_type": "markdown",
      "source": [
        "**Задача 2. В первом ящике находится 8 мячей, из которых 5 - белые. Во втором ящике - 12 мячей, из которых 5 белых. Из первого ящика вытаскивают случайным образом два мяча, из второго - 4. Какова вероятность того, что 3 мяча белые?**"
      ],
      "metadata": {
        "id": "xk0XNHGeT7Q0"
      }
    },
    {
      "cell_type": "code",
      "source": [
        "from math import factorial as f"
      ],
      "metadata": {
        "id": "n574V612T-Gz"
      },
      "execution_count": null,
      "outputs": []
    },
    {
      "cell_type": "markdown",
      "source": [
        "А1_2 - из первого ящика вынули два белых мяча\n",
        "\n",
        "А2_1 - из второго ящика вынули один белый мяч\n",
        "\n",
        "А1_1 - из первого ящика вынули один белый мяч\n",
        "\n",
        "А2_2 - из второго ящика вынули два белых мяча\n",
        "\n",
        "А1_0 - из первого ящика вынули ноль белых мячей\n",
        "\n",
        "А2_3 - из второго ящика вынули три белых мяча\n",
        "\n",
        "А = А1_2* А2_1 + А1_1* А2_2 + А1_0* А2_3"
      ],
      "metadata": {
        "id": "FbqUnYsAUoAf"
      }
    },
    {
      "cell_type": "code",
      "source": [
        "PA1_2 = (f(5) / (f(2) * f(5 - 2))) * (f(3) / (f(0) * f(3 - 0))) / (f(8) / (f(2) * f(8 - 2)))"
      ],
      "metadata": {
        "id": "MabrkZHzVD98"
      },
      "execution_count": null,
      "outputs": []
    },
    {
      "cell_type": "code",
      "source": [
        "PA2_1 = (f(5) / (f(1) * f(5 - 1))) * (f(7) / (f(3) * f(7 - 3))) / (f(12) / (f(4) * f(12 - 4)))"
      ],
      "metadata": {
        "id": "feNlTG0CV0xM"
      },
      "execution_count": null,
      "outputs": []
    },
    {
      "cell_type": "code",
      "source": [
        "PA1_1 = (f(5) / (f(1) * f(5 - 1))) * (f(3) / (f(1) * f(3 - 1))) / (f(8) / (f(2) * f(8 - 2)))"
      ],
      "metadata": {
        "id": "QSP90XmlWIlF"
      },
      "execution_count": null,
      "outputs": []
    },
    {
      "cell_type": "code",
      "source": [
        "PА2_2 = (f(5) / (f(2) * f(5 - 2))) * (f(7) / (f(2) * f(7 - 2))) / (f(12) / (f(4) * f(12 - 4)))"
      ],
      "metadata": {
        "id": "563OvFnNWTqe"
      },
      "execution_count": null,
      "outputs": []
    },
    {
      "cell_type": "code",
      "source": [
        "PA1_0 = (f(5) / (f(0) * f(5 - 0))) * (f(3) / (f(2) * f(3 - 2))) / (f(8) / (f(2) * f(8 - 2)))"
      ],
      "metadata": {
        "id": "559S_tKyWmFX"
      },
      "execution_count": null,
      "outputs": []
    },
    {
      "cell_type": "code",
      "source": [
        "PA2_3 = (f(5) / (f(3) * f(5 - 3))) * (f(7) / (f(1) * f(7 - 1))) / (f(12) / (f(4) * f(12 - 4)))"
      ],
      "metadata": {
        "id": "0Nqb0uY3WwQM"
      },
      "execution_count": null,
      "outputs": []
    },
    {
      "cell_type": "code",
      "source": [
        "PA = PA1_2 * PA2_1 + PA1_1 * PА2_2 +PA1_0 * PA2_3\n",
        "print(PA)"
      ],
      "metadata": {
        "colab": {
          "base_uri": "https://localhost:8080/"
        },
        "id": "cpshO6NFXHta",
        "outputId": "29d9779e-1aaf-474f-9279-810b793a45fb"
      },
      "execution_count": null,
      "outputs": [
        {
          "output_type": "stream",
          "name": "stdout",
          "text": [
            "0.3686868686868687\n"
          ]
        }
      ]
    },
    {
      "cell_type": "markdown",
      "source": [
        "**Задача 3. На соревновании по биатлону один из трех спортсменов стреляет и попадает в мишень. Вероятность попадания для первого спортсмена равна 0.9, для второго — 0.8, для третьего — 0.6. Найти вероятность того, что выстрел произведен: a). первым спортсменом б). вторым спортсменом в). третьим спортсменом.**"
      ],
      "metadata": {
        "id": "kCqLpsS7ZOHV"
      }
    },
    {
      "cell_type": "markdown",
      "source": [
        "A1 - первый стрелок\n",
        "\n",
        "А2 - второй стрелок\n",
        "\n",
        "А3 - третий стрелок"
      ],
      "metadata": {
        "id": "SRTKih72Zbmp"
      }
    },
    {
      "cell_type": "code",
      "source": [
        "PA = 1/3 * 0.9 + 1/3 * 0.8 + 1/3 * 0.6\n",
        "print(PA)"
      ],
      "metadata": {
        "colab": {
          "base_uri": "https://localhost:8080/"
        },
        "id": "Ksy_mgqXZkQO",
        "outputId": "737105b8-5cfe-4f0e-936f-16a211c622fa"
      },
      "execution_count": null,
      "outputs": [
        {
          "output_type": "stream",
          "name": "stdout",
          "text": [
            "0.7666666666666666\n"
          ]
        }
      ]
    },
    {
      "cell_type": "code",
      "source": [
        "PA1 = 1/3 * 0.9 / PA\n",
        "print(PA1)"
      ],
      "metadata": {
        "colab": {
          "base_uri": "https://localhost:8080/"
        },
        "id": "8-ADyV28Z5B1",
        "outputId": "eab792ee-a202-4b89-cb4d-a57a7d672a8f"
      },
      "execution_count": null,
      "outputs": [
        {
          "output_type": "stream",
          "name": "stdout",
          "text": [
            "0.391304347826087\n"
          ]
        }
      ]
    },
    {
      "cell_type": "code",
      "source": [
        "PA2 = 1/3 * 0.8 / PA\n",
        "print(PA2)"
      ],
      "metadata": {
        "colab": {
          "base_uri": "https://localhost:8080/"
        },
        "id": "P1hBgov7aFyF",
        "outputId": "a4bf288b-8f07-43be-d032-c14f8be9ba4d"
      },
      "execution_count": null,
      "outputs": [
        {
          "output_type": "stream",
          "name": "stdout",
          "text": [
            "0.3478260869565218\n"
          ]
        }
      ]
    },
    {
      "cell_type": "code",
      "source": [
        "PA3 = 1/3 * 0.6 / PA\n",
        "print(PA3)"
      ],
      "metadata": {
        "colab": {
          "base_uri": "https://localhost:8080/"
        },
        "id": "iirgLTYIaK5h",
        "outputId": "79cb7387-dedc-4ab2-88fe-53555d66308e"
      },
      "execution_count": null,
      "outputs": [
        {
          "output_type": "stream",
          "name": "stdout",
          "text": [
            "0.2608695652173913\n"
          ]
        }
      ]
    },
    {
      "cell_type": "markdown",
      "source": [
        "**Задача 4. В университет на факультеты A и B поступило равное количество студентов, а на факультет C студентов поступило столько же, сколько на A и B вместе. Вероятность того, что студент факультета A сдаст первую сессию, равна 0.8. Для студента факультета B эта вероятность равна 0.7, а для студента факультета C - 0.9. Студент сдал первую сессию. Какова вероятность, что он учится: a). на факультете A б). на факультете B в). на факультете C?**"
      ],
      "metadata": {
        "id": "uhFFFEe2ab_5"
      }
    },
    {
      "cell_type": "markdown",
      "source": [
        "А - студент, сдавший сессию, с факультета А\n",
        "\n",
        "В - с факультета В\n",
        "\n",
        "С - с факультета С"
      ],
      "metadata": {
        "id": "PG9TyVAzahMj"
      }
    },
    {
      "cell_type": "code",
      "source": [
        "PX = 1/4 * 0.8 + 1/4 * 0.7 + 2/4 * 0.9\n",
        "print(PX)"
      ],
      "metadata": {
        "colab": {
          "base_uri": "https://localhost:8080/"
        },
        "id": "Wy7LSTeUbN_4",
        "outputId": "485f7f7b-ecc4-42c2-b888-599b520c01ff"
      },
      "execution_count": null,
      "outputs": [
        {
          "output_type": "stream",
          "name": "stdout",
          "text": [
            "0.825\n"
          ]
        }
      ]
    },
    {
      "cell_type": "code",
      "source": [
        "PA = 1/4 * 0.8 / PX\n",
        "print(PA)"
      ],
      "metadata": {
        "colab": {
          "base_uri": "https://localhost:8080/"
        },
        "id": "zwxJ4niMbonK",
        "outputId": "6cffde9f-bd63-4ef3-eee0-79f87c0fbff7"
      },
      "execution_count": null,
      "outputs": [
        {
          "output_type": "stream",
          "name": "stdout",
          "text": [
            "0.24242424242424246\n"
          ]
        }
      ]
    },
    {
      "cell_type": "code",
      "source": [
        "PB = 1/4 * 0.7 / PX\n",
        "print(PB)"
      ],
      "metadata": {
        "colab": {
          "base_uri": "https://localhost:8080/"
        },
        "id": "Fslsl7m3byfV",
        "outputId": "007074c9-2520-469c-e385-2d53fce7769d"
      },
      "execution_count": null,
      "outputs": [
        {
          "output_type": "stream",
          "name": "stdout",
          "text": [
            "0.21212121212121213\n"
          ]
        }
      ]
    },
    {
      "cell_type": "code",
      "source": [
        "PC = 2/4 * 0.9 / PX\n",
        "print(PC)"
      ],
      "metadata": {
        "colab": {
          "base_uri": "https://localhost:8080/"
        },
        "id": "VehZwQm1b8Ps",
        "outputId": "5caa135a-f4f0-46be-a0d5-beb530265eee"
      },
      "execution_count": null,
      "outputs": [
        {
          "output_type": "stream",
          "name": "stdout",
          "text": [
            "0.5454545454545455\n"
          ]
        }
      ]
    },
    {
      "cell_type": "markdown",
      "source": [
        "**Задача 5. Устройство состоит из трех деталей. Для первой детали вероятность выйти из строя в первый месяц равна 0.1, для второй - 0.2, для третьей - 0.25. Какова вероятность того, что в первый месяц выйдут из строя: а). все детали б). только две детали в). хотя бы одна деталь г). от одной до двух деталей?**"
      ],
      "metadata": {
        "id": "StSXD-MpcQO9"
      }
    },
    {
      "cell_type": "markdown",
      "source": [
        "A -из строя вышли все детали"
      ],
      "metadata": {
        "id": "oB-hitYzcRf6"
      }
    },
    {
      "cell_type": "code",
      "source": [
        "PA = 0.1 * 0.2 * 0.25\n",
        "print(PA)"
      ],
      "metadata": {
        "colab": {
          "base_uri": "https://localhost:8080/"
        },
        "id": "pQrKEylqcjbH",
        "outputId": "6c8b942d-79f7-4bee-d4a4-a9d2507aced8"
      },
      "execution_count": null,
      "outputs": [
        {
          "output_type": "stream",
          "name": "stdout",
          "text": [
            "0.005000000000000001\n"
          ]
        }
      ]
    },
    {
      "cell_type": "markdown",
      "source": [
        "B - из строя вышли две детали\n",
        "\n",
        "В1 - первая и вторая\n",
        "\n",
        "В2 - первая и третья\n",
        "\n",
        "В3 - вторая и третья\n",
        "\n",
        "В = В1 + В2 + В3"
      ],
      "metadata": {
        "id": "vkt9G9ZQct_w"
      }
    },
    {
      "cell_type": "code",
      "source": [
        "PB = 0.1 * 0.2 * 0.75 + 0.1 * 0.8 * 0.25 + 0.9 * 0.2 * 0.25\n",
        "print(PB)"
      ],
      "metadata": {
        "colab": {
          "base_uri": "https://localhost:8080/"
        },
        "id": "NAK_HRFZdA3-",
        "outputId": "6dbf9b9d-c7d3-41ee-e1eb-e2fb20b7c168"
      },
      "execution_count": null,
      "outputs": [
        {
          "output_type": "stream",
          "name": "stdout",
          "text": [
            "0.08000000000000002\n"
          ]
        }
      ]
    },
    {
      "cell_type": "markdown",
      "source": [
        "C - из строя вышла хотя бы одна деталь\n"
      ],
      "metadata": {
        "id": "KZQ0EetqdnCu"
      }
    },
    {
      "cell_type": "code",
      "source": [
        "PC = 1 - 0.9 * 0.8 * 0.75\n",
        "print(PC)"
      ],
      "metadata": {
        "colab": {
          "base_uri": "https://localhost:8080/"
        },
        "id": "EksI1NgWdtGS",
        "outputId": "d69b996f-0ea4-4845-df20-8d35fdcc7379"
      },
      "execution_count": null,
      "outputs": [
        {
          "output_type": "stream",
          "name": "stdout",
          "text": [
            "0.45999999999999996\n"
          ]
        }
      ]
    },
    {
      "cell_type": "markdown",
      "source": [
        "D - из строя вышла одна деталь\n",
        "\n",
        "D1 - первая деталь\n",
        "\n",
        "D2 - вторая деталь\n",
        "\n",
        "D3 - третья деталь\n",
        "\n",
        "Е = В + D - от одной до двух деталей"
      ],
      "metadata": {
        "id": "z9AL0y5Ed9KT"
      }
    },
    {
      "cell_type": "code",
      "source": [
        "PD = 0.9 * 0.2 * 0.25 + 0.1 * 0.8 * 0.25 + 0.1 * 0.2 * 0.75\n",
        "print(PD)"
      ],
      "metadata": {
        "colab": {
          "base_uri": "https://localhost:8080/"
        },
        "id": "hT-ARllggoJq",
        "outputId": "551f2374-fc5f-4c5f-d108-06e8817446cc"
      },
      "execution_count": null,
      "outputs": [
        {
          "output_type": "stream",
          "name": "stdout",
          "text": [
            "0.08\n"
          ]
        }
      ]
    },
    {
      "cell_type": "code",
      "source": [
        "PE = PB + PD\n",
        "print(PE)"
      ],
      "metadata": {
        "colab": {
          "base_uri": "https://localhost:8080/"
        },
        "id": "X5kQGwC3g_J9",
        "outputId": "98beaa70-4c31-4cbb-95e8-2ebb5b46ceb9"
      },
      "execution_count": null,
      "outputs": [
        {
          "output_type": "stream",
          "name": "stdout",
          "text": [
            "0.16000000000000003\n"
          ]
        }
      ]
    }
  ]
}