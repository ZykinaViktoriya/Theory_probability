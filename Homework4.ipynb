{
  "nbformat": 4,
  "nbformat_minor": 0,
  "metadata": {
    "colab": {
      "provenance": [],
      "authorship_tag": "ABX9TyNrcNm9Y9bN2UCrxjdqGhPN",
      "include_colab_link": true
    },
    "kernelspec": {
      "name": "python3",
      "display_name": "Python 3"
    },
    "language_info": {
      "name": "python"
    }
  },
  "cells": [
    {
      "cell_type": "markdown",
      "metadata": {
        "id": "view-in-github",
        "colab_type": "text"
      },
      "source": [
        "<a href=\"https://colab.research.google.com/github/ZykinaViktoriya/Theory_probability/blob/main/Homework4.ipynb\" target=\"_parent\"><img src=\"https://colab.research.google.com/assets/colab-badge.svg\" alt=\"Open In Colab\"/></a>"
      ]
    },
    {
      "cell_type": "markdown",
      "source": [
        "Задача 1. Случайная непрерывная величина A имеет равномерное распределение на промежутке (200, 800]. Найдите ее среднее значение и дисперсию."
      ],
      "metadata": {
        "id": "hTA-eRENbHN7"
      }
    },
    {
      "cell_type": "code",
      "source": [
        "average = (200 + 800) / 2\n",
        "print(average)\n"
      ],
      "metadata": {
        "colab": {
          "base_uri": "https://localhost:8080/"
        },
        "id": "V1YxVDkSbcs7",
        "outputId": "36b88490-04b4-413f-aa13-7947df74257d"
      },
      "execution_count": 1,
      "outputs": [
        {
          "output_type": "stream",
          "name": "stdout",
          "text": [
            "500.0\n"
          ]
        }
      ]
    },
    {
      "cell_type": "code",
      "source": [
        "dispersion = (800 - 200) ** 2 / 12\n",
        "print(dispersion)"
      ],
      "metadata": {
        "colab": {
          "base_uri": "https://localhost:8080/"
        },
        "id": "dunW32nybrcx",
        "outputId": "1a21fc6c-447f-4af5-9221-318715958b24"
      },
      "execution_count": 2,
      "outputs": [
        {
          "output_type": "stream",
          "name": "stdout",
          "text": [
            "30000.0\n"
          ]
        }
      ]
    },
    {
      "cell_type": "markdown",
      "source": [
        "Задача 2. О случайной непрерывной равномерно распределенной величине B известно, что ее дисперсия равна 0.2. Можно ли найти правую границу величины B и ее среднее значение зная, что левая граница равна 0.5? Если да, найдите ее."
      ],
      "metadata": {
        "id": "Zt2H5J--b7dV"
      }
    },
    {
      "cell_type": "code",
      "source": [
        "import numpy as np"
      ],
      "metadata": {
        "id": "rgrBcYsLcEYa"
      },
      "execution_count": 3,
      "outputs": []
    },
    {
      "cell_type": "code",
      "source": [
        "right_border = 0.5 + np.sqrt(12 * 0.2)\n",
        "print(right_border)"
      ],
      "metadata": {
        "colab": {
          "base_uri": "https://localhost:8080/"
        },
        "id": "gFNicKy8cJtc",
        "outputId": "a5b7adec-f721-4c28-b8d8-705cf7998241"
      },
      "execution_count": 4,
      "outputs": [
        {
          "output_type": "stream",
          "name": "stdout",
          "text": [
            "2.049193338482967\n"
          ]
        }
      ]
    },
    {
      "cell_type": "markdown",
      "source": [
        "Задача 3. Непрерывная случайная величина X распределена нормально и задана плотностью распределения f(x) = (1 / (4 * sqrt(2pi))) * exp((-(x+2)**2) / 32)\n",
        "\n",
        "Найдите:\n",
        "\n",
        "а). M(X)\n",
        "\n",
        "б). D(X)\n",
        "\n",
        "в). std(X) (среднее квадратичное отклонение)\n",
        "\n",
        "a  = M(X)"
      ],
      "metadata": {
        "id": "jmhQjypFcn1W"
      }
    },
    {
      "cell_type": "code",
      "source": [
        "MX = -2"
      ],
      "metadata": {
        "id": "uqRvZb-tdKoQ"
      },
      "execution_count": null,
      "outputs": []
    },
    {
      "cell_type": "code",
      "source": [
        "DX = 32 / 2\n",
        "print(DX)"
      ],
      "metadata": {
        "colab": {
          "base_uri": "https://localhost:8080/"
        },
        "id": "m37xHtAJdgPI",
        "outputId": "26572049-2b69-449d-c9df-b2c86b9bb677"
      },
      "execution_count": 6,
      "outputs": [
        {
          "output_type": "stream",
          "name": "stdout",
          "text": [
            "16.0\n"
          ]
        }
      ]
    },
    {
      "cell_type": "code",
      "source": [
        "stdX = 4"
      ],
      "metadata": {
        "id": "35t_g_HsdnYc"
      },
      "execution_count": null,
      "outputs": []
    },
    {
      "cell_type": "markdown",
      "source": [
        "Задача 4.  Рост взрослого населения города X имеет нормальное распределение.\n",
        "Причем, средний рост равен 174 см, а среднее квадратичное отклонение равно 8 см.\n",
        "\n",
        "Какова вероятность того, что случайным образом выбранный взрослый человек имеет рост:\n",
        "а). больше 182 см\n",
        "б). больше 190 см\n",
        "в). от 166 см до 190 см\n",
        "г). от 166 см до 182 см\n",
        "д). от 158 см до 190 см\n",
        "е). не выше 150 см или не ниже 190 см\n",
        "ё). не выше 150 см или не ниже 198 см\n",
        "ж). ниже 166 см"
      ],
      "metadata": {
        "id": "KWv2BqLFdwWq"
      }
    },
    {
      "cell_type": "markdown",
      "source": [
        "а). больше 182 см"
      ],
      "metadata": {
        "id": "UbJ9WAj_d8TE"
      }
    },
    {
      "cell_type": "code",
      "source": [
        "import scipy.stats as st\n",
        "hight = st.norm(loc=174, scale=8)\n",
        "1 - hight.cdf(182)"
      ],
      "metadata": {
        "colab": {
          "base_uri": "https://localhost:8080/"
        },
        "id": "-MY8HUsOd8_f",
        "outputId": "9b376824-c55b-4b13-dbdf-8842016966bb"
      },
      "execution_count": 8,
      "outputs": [
        {
          "output_type": "execute_result",
          "data": {
            "text/plain": [
              "0.15865525393145707"
            ]
          },
          "metadata": {},
          "execution_count": 8
        }
      ]
    },
    {
      "cell_type": "markdown",
      "source": [
        "б). больше 190 см"
      ],
      "metadata": {
        "id": "oty_pHsYeMQK"
      }
    },
    {
      "cell_type": "code",
      "source": [
        "1 - hight.cdf(190)"
      ],
      "metadata": {
        "colab": {
          "base_uri": "https://localhost:8080/"
        },
        "id": "OjIjEUB5eM2L",
        "outputId": "744fdcd7-aefa-44a0-c206-f01e0ead2185"
      },
      "execution_count": 9,
      "outputs": [
        {
          "output_type": "execute_result",
          "data": {
            "text/plain": [
              "0.02275013194817921"
            ]
          },
          "metadata": {},
          "execution_count": 9
        }
      ]
    },
    {
      "cell_type": "markdown",
      "source": [
        "в). от 166 см до 190 см"
      ],
      "metadata": {
        "id": "SCDllIaDeTVs"
      }
    },
    {
      "cell_type": "code",
      "source": [
        "hight.cdf(190) - hight.cdf(166)"
      ],
      "metadata": {
        "colab": {
          "base_uri": "https://localhost:8080/"
        },
        "id": "SdWN1pRteT2R",
        "outputId": "006efcc3-fc0d-44d1-d709-cb331d575055"
      },
      "execution_count": 10,
      "outputs": [
        {
          "output_type": "execute_result",
          "data": {
            "text/plain": [
              "0.8185946141203637"
            ]
          },
          "metadata": {},
          "execution_count": 10
        }
      ]
    },
    {
      "cell_type": "markdown",
      "source": [
        "г). от 166 см до 182 см"
      ],
      "metadata": {
        "id": "T5UkTngqeZgS"
      }
    },
    {
      "cell_type": "code",
      "source": [
        "hight.cdf(182) - hight.cdf(166)"
      ],
      "metadata": {
        "colab": {
          "base_uri": "https://localhost:8080/"
        },
        "id": "rgFjLIaieaOc",
        "outputId": "eb3ccf30-83db-4b32-9f6d-434cc043d050"
      },
      "execution_count": 11,
      "outputs": [
        {
          "output_type": "execute_result",
          "data": {
            "text/plain": [
              "0.6826894921370859"
            ]
          },
          "metadata": {},
          "execution_count": 11
        }
      ]
    },
    {
      "cell_type": "markdown",
      "source": [
        "д). от 158 см до 190 см"
      ],
      "metadata": {
        "id": "QioQhHJjeceZ"
      }
    },
    {
      "cell_type": "code",
      "source": [
        "hight.cdf(190) - hight.cdf(158)"
      ],
      "metadata": {
        "colab": {
          "base_uri": "https://localhost:8080/"
        },
        "id": "fBLE4LNZeed-",
        "outputId": "c23b2e1e-4882-469a-d0ea-068310326b6c"
      },
      "execution_count": 12,
      "outputs": [
        {
          "output_type": "execute_result",
          "data": {
            "text/plain": [
              "0.9544997361036416"
            ]
          },
          "metadata": {},
          "execution_count": 12
        }
      ]
    },
    {
      "cell_type": "markdown",
      "source": [
        "е). не выше 150 см или не ниже 190 см"
      ],
      "metadata": {
        "id": "Q1Sca_QzegK3"
      }
    },
    {
      "cell_type": "code",
      "source": [
        "hight.cdf(150) + (1 - hight.cdf(190))"
      ],
      "metadata": {
        "colab": {
          "base_uri": "https://localhost:8080/"
        },
        "id": "4yYUvBpHekL8",
        "outputId": "2395a01c-9f31-4c5a-ba50-28415ee3bd3d"
      },
      "execution_count": 13,
      "outputs": [
        {
          "output_type": "execute_result",
          "data": {
            "text/plain": [
              "0.0241000299798093"
            ]
          },
          "metadata": {},
          "execution_count": 13
        }
      ]
    },
    {
      "cell_type": "markdown",
      "source": [
        "ё). не выше 150 см или не ниже 198 см"
      ],
      "metadata": {
        "id": "XKXG9_nJerUl"
      }
    },
    {
      "cell_type": "code",
      "source": [
        "hight.cdf(150) + (1 - hight.cdf(198))"
      ],
      "metadata": {
        "colab": {
          "base_uri": "https://localhost:8080/"
        },
        "id": "U6MsSO1ietMJ",
        "outputId": "158b5e85-9228-49c5-ca06-c156f93c12d0"
      },
      "execution_count": 14,
      "outputs": [
        {
          "output_type": "execute_result",
          "data": {
            "text/plain": [
              "0.0026997960632601965"
            ]
          },
          "metadata": {},
          "execution_count": 14
        }
      ]
    },
    {
      "cell_type": "markdown",
      "source": [
        "ж). ниже 166 см."
      ],
      "metadata": {
        "id": "yIMKLU-Wevs4"
      }
    },
    {
      "cell_type": "code",
      "source": [
        "hight.cdf(166)"
      ],
      "metadata": {
        "colab": {
          "base_uri": "https://localhost:8080/"
        },
        "id": "EgEqyQGIexue",
        "outputId": "e1792b89-682a-4508-f361-5ab8d5eb108e"
      },
      "execution_count": 15,
      "outputs": [
        {
          "output_type": "execute_result",
          "data": {
            "text/plain": [
              "0.15865525393145707"
            ]
          },
          "metadata": {},
          "execution_count": 15
        }
      ]
    },
    {
      "cell_type": "markdown",
      "source": [
        "Задача 5.  На сколько сигм (средних квадратичных отклонений) отклоняется рост человека, равный 190 см, от математического ожидания роста в популяции, в которой M(X) = 178 см и D(X) = 25 кв.см?"
      ],
      "metadata": {
        "id": "R3niaZJWe4Rh"
      }
    },
    {
      "cell_type": "code",
      "source": [
        "(190 - 178) / np.sqrt(25)"
      ],
      "metadata": {
        "colab": {
          "base_uri": "https://localhost:8080/"
        },
        "id": "W2k0HS2we9oC",
        "outputId": "5d826b6f-bd6a-4df4-8c13-c035a3714cde"
      },
      "execution_count": 16,
      "outputs": [
        {
          "output_type": "execute_result",
          "data": {
            "text/plain": [
              "2.4"
            ]
          },
          "metadata": {},
          "execution_count": 16
        }
      ]
    }
  ]
}