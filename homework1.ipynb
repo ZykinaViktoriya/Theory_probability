{
  "nbformat": 4,
  "nbformat_minor": 0,
  "metadata": {
    "colab": {
      "provenance": [],
      "authorship_tag": "ABX9TyOXc9NxEG+ZXSXtxTt13che",
      "include_colab_link": true
    },
    "kernelspec": {
      "name": "python3",
      "display_name": "Python 3"
    },
    "language_info": {
      "name": "python"
    }
  },
  "cells": [
    {
      "cell_type": "markdown",
      "metadata": {
        "id": "view-in-github",
        "colab_type": "text"
      },
      "source": [
        "<a href=\"https://colab.research.google.com/github/ZykinaViktoriya/Theory_probability/blob/main/homework1.ipynb\" target=\"_parent\"><img src=\"https://colab.research.google.com/assets/colab-badge.svg\" alt=\"Open In Colab\"/></a>"
      ]
    },
    {
      "cell_type": "markdown",
      "source": [
        "**Задача 1**. Из колоды в 52 карты извлекаются случайным образом 4 карты.\n",
        "a) Найти вероятность того, что все карты – крести.\n",
        "б) Найти вероятность, что среди 4-х карт окажется хотя бы один туз."
      ],
      "metadata": {
        "id": "lDp0T5kp55eu"
      }
    },
    {
      "cell_type": "markdown",
      "source": [
        "А - все карты - крести"
      ],
      "metadata": {
        "id": "sUykNF6i7I3_"
      }
    },
    {
      "cell_type": "code",
      "source": [
        "from math import factorial"
      ],
      "metadata": {
        "id": "fFXs8Toz56_T"
      },
      "execution_count": null,
      "outputs": []
    },
    {
      "cell_type": "code",
      "source": [
        "n = factorial(52) / (factorial(4)*factorial(52 - 4))"
      ],
      "metadata": {
        "id": "gfHEqxl86xEz"
      },
      "execution_count": null,
      "outputs": []
    },
    {
      "cell_type": "code",
      "source": [
        "m = factorial(13) / (factorial(4)*factorial(13 - 4))"
      ],
      "metadata": {
        "id": "96TEiUez62DI"
      },
      "execution_count": null,
      "outputs": []
    },
    {
      "cell_type": "code",
      "source": [
        "print(m)\n",
        "print(n)\n",
        "print(m/n)"
      ],
      "metadata": {
        "colab": {
          "base_uri": "https://localhost:8080/"
        },
        "id": "MabXqBvIw9pI",
        "outputId": "e0fa01a4-aff8-4842-fb93-1e5e3545558e"
      },
      "execution_count": null,
      "outputs": [
        {
          "output_type": "stream",
          "name": "stdout",
          "text": [
            "715.0\n",
            "270725.0\n",
            "0.0026410564225690276\n"
          ]
        }
      ]
    },
    {
      "cell_type": "code",
      "source": [
        "print(f'Вероятность того, что все карты - крести = {m/n :.4f}')"
      ],
      "metadata": {
        "colab": {
          "base_uri": "https://localhost:8080/"
        },
        "id": "yY_ZZMU269vv",
        "outputId": "f45c6555-7a57-4e9c-83e1-6eb52230405f"
      },
      "execution_count": null,
      "outputs": [
        {
          "output_type": "stream",
          "name": "stdout",
          "text": [
            "Вероятность того, что все карты - крести = 0.0026\n"
          ]
        }
      ]
    },
    {
      "cell_type": "markdown",
      "source": [
        "А - хотя бы один туз\n",
        "\n",
        "А = А1 + А2 + А3 + А4\n",
        "\n",
        "А1 - один туз\n",
        "\n",
        "А2 - два туза\n",
        "\n",
        "А3 - три туза\n",
        "\n",
        "А4 - четыре туза\n",
        "\n",
        "n - сочетание 4 из 52\n",
        "\n",
        "m1 = (сочетание 1 из 4 ) * (сочетание 3 из 48)\n",
        "\n",
        "m2 = (сочетание 2 из 4 ) * (сочетание 2 из 48)\n",
        "\n",
        "m3 = (сочетание 3 из 4 ) * (сочетание 1 из 48)\n",
        "\n",
        "m4 = сочетание 4 из 4"
      ],
      "metadata": {
        "id": "qI2A1b627Y-D"
      }
    },
    {
      "cell_type": "markdown",
      "source": [],
      "metadata": {
        "id": "TdvX9xkQ823p"
      }
    },
    {
      "cell_type": "code",
      "source": [
        "P1 = (factorial(4) / (factorial(1)*factorial(4 - 1))) * (factorial(48) / (factorial(3)*factorial(48 - 3))) / n"
      ],
      "metadata": {
        "id": "rBQ-1FUR7ib7"
      },
      "execution_count": null,
      "outputs": []
    },
    {
      "cell_type": "code",
      "source": [
        "P2 = (factorial(4) / (factorial(2)*factorial(4 - 2))) * (factorial(48) / (factorial(2)*factorial(48 - 2))) / n"
      ],
      "metadata": {
        "id": "JwqrObJ87nCz"
      },
      "execution_count": null,
      "outputs": []
    },
    {
      "cell_type": "code",
      "source": [
        "P3 = (factorial(4) / (factorial(3)*factorial(4 - 3))) * (factorial(48) / (factorial(1)*factorial(48 - 1))) / n"
      ],
      "metadata": {
        "id": "ITZNAK1Q7yH-"
      },
      "execution_count": null,
      "outputs": []
    },
    {
      "cell_type": "code",
      "source": [
        "P4 = factorial(4) / (factorial(4)*factorial(4 - 4)) / n"
      ],
      "metadata": {
        "id": "WxwrVQpa8DOH"
      },
      "execution_count": null,
      "outputs": []
    },
    {
      "cell_type": "code",
      "source": [
        "P = P1 + P2 + P3 + P4\n",
        "print(f'Вероятность того, что из 4 карт хотя бы один туз = {P :.2f}')"
      ],
      "metadata": {
        "colab": {
          "base_uri": "https://localhost:8080/"
        },
        "id": "IJri6PDv8I5h",
        "outputId": "21a40bc7-bf1b-40f5-c808-337f9532413d"
      },
      "execution_count": null,
      "outputs": [
        {
          "output_type": "stream",
          "name": "stdout",
          "text": [
            "Вероятность того, что из 4 карт хотя бы один туз = 0.28\n"
          ]
        }
      ]
    },
    {
      "cell_type": "markdown",
      "source": [
        "**Задача 2.** На входной двери подъезда установлен кодовый замок, содержащий десять кнопок с цифрами от 0 до 9. Код содержит три цифры, которые нужно нажать одновременно. Какова вероятность того, что человек, не знающий код, откроет дверь с первой попытки?\n"
      ],
      "metadata": {
        "id": "A5BLYCyi85DP"
      }
    },
    {
      "cell_type": "markdown",
      "source": [
        "А - открыть дверь с первой попытки.\n",
        "*  m = 1\n",
        "\n",
        "\n",
        "\n"
      ],
      "metadata": {
        "id": "CglD92jM9XdO"
      }
    },
    {
      "cell_type": "code",
      "source": [
        "P = 1 / (factorial(10) / factorial(10 - 3))\n",
        "print(f'Вероятность того, что дверь открыта с первой попытки = {P :.4f}')"
      ],
      "metadata": {
        "colab": {
          "base_uri": "https://localhost:8080/"
        },
        "id": "6fUFnt1O9kq2",
        "outputId": "f5240222-b57a-40bb-c607-4e24d3c6a706"
      },
      "execution_count": null,
      "outputs": [
        {
          "output_type": "stream",
          "name": "stdout",
          "text": [
            "Вероятность того, что дверь открыта с первой попытки = 0.0014\n"
          ]
        }
      ]
    },
    {
      "cell_type": "markdown",
      "source": [
        "**Задача 3. **В ящике имеется 15 деталей, из которых 9 окрашены. Рабочий случайным образом извлекает 3 детали. Какова вероятность того, что все извлеченные детали окрашены?"
      ],
      "metadata": {
        "id": "XnHzlb_V9zWt"
      }
    },
    {
      "cell_type": "markdown",
      "source": [
        "А - все детали окрашены\n",
        "*   m - 3 из 9\n",
        "*   n - 3 из 15\n",
        "\n",
        "\n"
      ],
      "metadata": {
        "id": "DxZmbUDM94gz"
      }
    },
    {
      "cell_type": "code",
      "source": [
        "P = (factorial(9) / (factorial(3)*factorial(9 - 3))) / (factorial(15) / (factorial(3)*factorial(15 - 3)))\n",
        "print(f'Вероятность того, что все извлеченные детали окрашены = {P :.2f}')"
      ],
      "metadata": {
        "colab": {
          "base_uri": "https://localhost:8080/"
        },
        "id": "LMZgVgk7-Nny",
        "outputId": "60ffe5ff-a243-4250-dabb-eff0d399d548"
      },
      "execution_count": null,
      "outputs": [
        {
          "output_type": "stream",
          "name": "stdout",
          "text": [
            "Вероятность того, что все извлеченные детали окрашены = 0.18\n"
          ]
        }
      ]
    },
    {
      "cell_type": "markdown",
      "source": [
        "**Задача 4.** В лотерее 100 билетов. Из них 2 выигрышных. Какова вероятность того, что 2 приобретенных билета окажутся выигрышными?"
      ],
      "metadata": {
        "id": "mxe8qpuU-VB_"
      }
    },
    {
      "cell_type": "markdown",
      "source": [
        "А - билеты выигрышные\n",
        "\n",
        "*   n - сочетание 2 из 100\n",
        "*   m - сочетание 2 из 2\n",
        "\n"
      ],
      "metadata": {
        "id": "rxMHXE1H-Zeh"
      }
    },
    {
      "cell_type": "code",
      "source": [
        "P = (factorial(2) / (factorial(2)*factorial(2 - 2))) / (factorial(100) / (factorial(2)*factorial(100 - 2)))\n",
        "print(f'Вероятность того, что оба билета выигрышные = {P :.5f}')"
      ],
      "metadata": {
        "id": "bY7XZsOk_GOW",
        "outputId": "0c84b2a6-451a-4030-bb61-1baf984ebd13",
        "colab": {
          "base_uri": "https://localhost:8080/"
        }
      },
      "execution_count": null,
      "outputs": [
        {
          "output_type": "stream",
          "name": "stdout",
          "text": [
            "Вероятность того, что оба билета выигрышные = 0.00020\n"
          ]
        }
      ]
    }
  ]
}