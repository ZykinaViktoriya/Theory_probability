{
  "nbformat": 4,
  "nbformat_minor": 0,
  "metadata": {
    "colab": {
      "provenance": [],
      "authorship_tag": "ABX9TyMxTO7SAQgA5G2y8XHR/f9T",
      "include_colab_link": true
    },
    "kernelspec": {
      "name": "python3",
      "display_name": "Python 3"
    },
    "language_info": {
      "name": "python"
    }
  },
  "cells": [
    {
      "cell_type": "markdown",
      "metadata": {
        "id": "view-in-github",
        "colab_type": "text"
      },
      "source": [
        "<a href=\"https://colab.research.google.com/github/ZykinaViktoriya/Theory_probability/blob/main/Homework7.ipynb\" target=\"_parent\"><img src=\"https://colab.research.google.com/assets/colab-badge.svg\" alt=\"Open In Colab\"/></a>"
      ]
    },
    {
      "cell_type": "markdown",
      "source": [
        "Задача 1.  Даны две  независимые выборки. Не соблюдается условие нормальности\n",
        "x1  380,420, 290\n",
        "y1 140,360,200,900\n",
        "\n",
        "Сделайте вывод по результатам, полученным с помощью функци"
      ],
      "metadata": {
        "id": "DMZpfRSHMes8"
      }
    },
    {
      "cell_type": "code",
      "execution_count": 1,
      "metadata": {
        "id": "IY9qsHZwMVtu"
      },
      "outputs": [],
      "source": [
        "import numpy as np\n",
        "from scipy import stats\n",
        "import warnings\n",
        "warnings.filterwarnings('ignore')"
      ]
    },
    {
      "cell_type": "code",
      "source": [
        "x1 = np.array([380,420, 290])\n",
        "y1 = np.array([140,360,200,900])\n",
        "\n",
        "stats.mannwhitneyu(x1, y1)"
      ],
      "metadata": {
        "colab": {
          "base_uri": "https://localhost:8080/"
        },
        "id": "Hl210nFSM53R",
        "outputId": "bd8fad81-d662-43ee-c989-0da977376bb4"
      },
      "execution_count": 2,
      "outputs": [
        {
          "output_type": "execute_result",
          "data": {
            "text/plain": [
              "MannwhitneyuResult(statistic=8.0, pvalue=0.6285714285714286)"
            ]
          },
          "metadata": {},
          "execution_count": 2
        }
      ]
    },
    {
      "cell_type": "markdown",
      "source": [
        "Задача 2. Исследовалось влияние препарата на уровень давления пациентов. Сначала измерялось давление до приема препарата, потом через 10 минут и через 30 минут. Есть ли статистически значимые различия?\n",
        "\n",
        "1е измерение до приема препарата: 150, 160, 165, 145, 155\n",
        "\n",
        "2е измерение через 10 минут: 140, 155, 150,  130, 135\n",
        "\n",
        "3е измерение через 30 минут: 130, 130, 120, 130, 125"
      ],
      "metadata": {
        "id": "KWJuqKIjNLcW"
      }
    },
    {
      "cell_type": "code",
      "source": [
        "x1 = np.array([150, 160, 165, 145, 155])\n",
        "x2 = np.array([140, 155, 150, 130, 135])\n",
        "x3 = np.array([130, 130, 120, 130, 125])\n",
        "\n",
        "stats.friedmanchisquare(x1, x2, x3)"
      ],
      "metadata": {
        "colab": {
          "base_uri": "https://localhost:8080/"
        },
        "id": "GsR7RLgQNP6k",
        "outputId": "96a33449-d1df-4d68-812e-bcb22e83e458"
      },
      "execution_count": 3,
      "outputs": [
        {
          "output_type": "execute_result",
          "data": {
            "text/plain": [
              "FriedmanchisquareResult(statistic=9.578947368421062, pvalue=0.00831683351100441)"
            ]
          },
          "metadata": {},
          "execution_count": 3
        }
      ]
    },
    {
      "cell_type": "markdown",
      "source": [
        "Задача 3. Сравните 1 и 2 е измерения, предполагая, что 3го измерения через 30 минут не было.\n",
        "\n",
        "1е измерение до приема препарата: 150, 160, 165, 145, 155\n",
        "\n",
        "2е измерение через 10 минут: 140, 155, 150, 130, 135"
      ],
      "metadata": {
        "id": "dG477s3nNlx3"
      }
    },
    {
      "cell_type": "code",
      "source": [
        "x1 = np.array([150, 160, 165, 145, 155])\n",
        "x2 = np.array([140, 155, 150, 130, 135])\n",
        "\n",
        "stats.wilcoxon(x1, x2)"
      ],
      "metadata": {
        "colab": {
          "base_uri": "https://localhost:8080/"
        },
        "id": "agQHN13CNro4",
        "outputId": "abfe8fe9-fb86-46f9-937f-4145972eb9a3"
      },
      "execution_count": 4,
      "outputs": [
        {
          "output_type": "execute_result",
          "data": {
            "text/plain": [
              "WilcoxonResult(statistic=0.0, pvalue=0.0625)"
            ]
          },
          "metadata": {},
          "execution_count": 4
        }
      ]
    },
    {
      "cell_type": "markdown",
      "source": [
        "Задача 4.  Даны 3 группы  учеников плавания.\n",
        "В 1 группе время на дистанцию 50 м составляют:\n",
        "56, 60, 62, 55, 71, 67, 59, 58, 64, 67\n",
        "\n",
        "Вторая группа : 57, 58, 69, 48, 72, 70, 68, 71, 50, 53\n",
        "\n",
        "Третья группа: 57, 67, 49, 48, 47, 55, 66, 51, 54"
      ],
      "metadata": {
        "id": "DKp-imCZN592"
      }
    },
    {
      "cell_type": "code",
      "source": [
        "x1 = np.array([56, 60, 62, 55, 71, 67, 59, 58, 64, 67])\n",
        "x2 = np.array([57, 58, 69, 48, 72, 70, 68, 71, 50, 53])\n",
        "x3 = np.array([57, 67, 49, 48, 47, 55, 66, 51, 54])\n",
        "\n",
        "stats.kruskal(x1, x2, x3)"
      ],
      "metadata": {
        "colab": {
          "base_uri": "https://localhost:8080/"
        },
        "id": "u9ZgPz0POOn9",
        "outputId": "22a8af76-6825-4d53-e7f6-0f66208bf379"
      },
      "execution_count": 5,
      "outputs": [
        {
          "output_type": "execute_result",
          "data": {
            "text/plain": [
              "KruskalResult(statistic=5.465564058257224, pvalue=0.0650380998590494)"
            ]
          },
          "metadata": {},
          "execution_count": 5
        }
      ]
    },
    {
      "cell_type": "markdown",
      "source": [
        " Задача 5. Заявляется, что партия изготавливается со средним арифметическим 2,5 см. Проверить данную гипотезу, если известно, что размеры изделий подчинены нормальному закону распределения. Объем выборки 10, уровень статистической значимости 5%\n",
        "\n",
        "2.51, 2.35, 2.74, 2.56, 2.40, 2.36, 2.65, 2.7, 2.67, 2.34"
      ],
      "metadata": {
        "id": "cJFNVz5vOlyQ"
      }
    },
    {
      "cell_type": "code",
      "source": [
        "x = np.array([2.51, 2.35, 2.74, 2.56, 2.40, 2.36, 2.65, 2.7, 2.67, 2.34])"
      ],
      "metadata": {
        "id": "5E8mYZwMOvEw"
      },
      "execution_count": 7,
      "outputs": []
    },
    {
      "cell_type": "markdown",
      "source": [
        "H0: mu = 2.5\n",
        "\n",
        "H1: mu 1= 2.5"
      ],
      "metadata": {
        "id": "jmL0uTILO0wk"
      }
    },
    {
      "cell_type": "code",
      "source": [
        "mu = 2.5\n",
        "x_mean = np.mean(x)\n",
        "sigma = np.std(x, ddof = 1)\n",
        "n = len(x)\n",
        "print(sigma, x_mean)"
      ],
      "metadata": {
        "colab": {
          "base_uri": "https://localhost:8080/"
        },
        "id": "xSwZASTrO6VC",
        "outputId": "f0f91caa-55c7-48c6-b0d8-ec590b0a3450"
      },
      "execution_count": 8,
      "outputs": [
        {
          "output_type": "stream",
          "name": "stdout",
          "text": [
            "0.1572542173961923 2.5279999999999996\n"
          ]
        }
      ]
    },
    {
      "cell_type": "code",
      "source": [
        "t_em = (x_mean - mu) / (sigma / np.sqrt(n))\n",
        "\n",
        "alpha = 0.05\n",
        "\n",
        "t1 = stats.t.ppf(1-alpha/2, df=n-1)\n",
        "t2 = stats.t.ppf(alpha/2, df=n-1)\n",
        "t1, t_em, t2"
      ],
      "metadata": {
        "colab": {
          "base_uri": "https://localhost:8080/"
        },
        "id": "1VFQ8EH3POH6",
        "outputId": "e7ebfb50-2ce4-4e65-e233-83de30bc9104"
      },
      "execution_count": 10,
      "outputs": [
        {
          "output_type": "execute_result",
          "data": {
            "text/plain": [
              "(2.2621571627409915, 0.5630613661802959, -2.262157162740992)"
            ]
          },
          "metadata": {},
          "execution_count": 10
        }
      ]
    },
    {
      "cell_type": "markdown",
      "source": [
        "Нулевая гипотеза не отвергается"
      ],
      "metadata": {
        "id": "Tn9JTjSHPxlB"
      }
    }
  ]
}