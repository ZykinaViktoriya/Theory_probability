{
  "nbformat": 4,
  "nbformat_minor": 0,
  "metadata": {
    "colab": {
      "provenance": [],
      "authorship_tag": "ABX9TyOM3Qp7Dhl2TQVKUz7bDstW",
      "include_colab_link": true
    },
    "kernelspec": {
      "name": "python3",
      "display_name": "Python 3"
    },
    "language_info": {
      "name": "python"
    }
  },
  "cells": [
    {
      "cell_type": "markdown",
      "metadata": {
        "id": "view-in-github",
        "colab_type": "text"
      },
      "source": [
        "<a href=\"https://colab.research.google.com/github/ZykinaViktoriya/Theory_probability/blob/main/Homework6.ipynb\" target=\"_parent\"><img src=\"https://colab.research.google.com/assets/colab-badge.svg\" alt=\"Open In Colab\"/></a>"
      ]
    },
    {
      "cell_type": "markdown",
      "source": [
        "Задача 1. Известно, что генеральная совокупность распределена нормально со средним квадратическим отклонением, равным 16. Найти доверительный интервал для оценки математического ожидания a с надежностью 0.95, если выборочная средняя M = 80, а объем выборки n = 256."
      ],
      "metadata": {
        "id": "cfbfRe6vMCy5"
      }
    },
    {
      "cell_type": "code",
      "execution_count": 9,
      "metadata": {
        "id": "hFuthrZQLor4"
      },
      "outputs": [],
      "source": [
        "sigma = 16\n",
        "n = 256\n",
        "p = 0.95\n",
        "x_mean = 80\n",
        "alpha = 1 - p"
      ]
    },
    {
      "cell_type": "code",
      "source": [
        "from scipy import stats\n",
        "import numpy as np\n",
        "\n",
        "t1 = stats.norm.ppf(alpha / 2)\n",
        "t2 = stats.norm.ppf(1 - alpha / 2)\n",
        "t1, t2"
      ],
      "metadata": {
        "colab": {
          "base_uri": "https://localhost:8080/"
        },
        "id": "-3JJz9amMgFt",
        "outputId": "eca2214f-f06e-4715-e975-978b8c5c56c5"
      },
      "execution_count": 10,
      "outputs": [
        {
          "output_type": "execute_result",
          "data": {
            "text/plain": [
              "(-1.959963984540054, 1.959963984540054)"
            ]
          },
          "metadata": {},
          "execution_count": 10
        }
      ]
    },
    {
      "cell_type": "code",
      "source": [
        "left = x_mean + t1 * sigma / np.sqrt(n)\n",
        "right = x_mean + t2 *sigma / np.sqrt(n)\n",
        "left, right"
      ],
      "metadata": {
        "colab": {
          "base_uri": "https://localhost:8080/"
        },
        "id": "rjf3S0RiM6xQ",
        "outputId": "2df83961-e369-4eab-8869-3fa3f35d7580"
      },
      "execution_count": 11,
      "outputs": [
        {
          "output_type": "execute_result",
          "data": {
            "text/plain": [
              "(78.04003601545995, 81.95996398454005)"
            ]
          },
          "metadata": {},
          "execution_count": 11
        }
      ]
    },
    {
      "cell_type": "markdown",
      "source": [
        "Задача 2. В результате 10 независимых измерений некоторой величины X, выполненных с одинаковой точностью, получены опытные данные: 6.9, 6.1, 6.2, 6.8, 7.5, 6.3, 6.4, 6.9, 6.7, 6.1 Предполагая, что результаты измерений подчинены нормальному закону распределения вероятностей, оценить истинное значение величины X при помощи доверительного интервала, покрывающего это значение с доверительной вероятностью 0,95."
      ],
      "metadata": {
        "id": "MgFsEIYoMNDC"
      }
    },
    {
      "cell_type": "code",
      "source": [
        "from scipy import stats\n",
        "import numpy as np\n",
        "\n",
        "\n",
        "x = np.array([6.9, 6.1, 6.2, 6.8, 7.5, 6.3, 6.4, 6.9, 6.7, 6.1])"
      ],
      "metadata": {
        "id": "ZAhvjzs_Njw7"
      },
      "execution_count": 12,
      "outputs": []
    },
    {
      "cell_type": "code",
      "source": [
        "mean = x.mean()\n",
        "sigma = x.std(ddof=1)\n",
        "n = x.shape[0]\n",
        "\n",
        "p = 0.95\n",
        "alpha = 1 - p\n",
        "sigma, mean"
      ],
      "metadata": {
        "colab": {
          "base_uri": "https://localhost:8080/"
        },
        "id": "UhZyZ3erN0JZ",
        "outputId": "2593f170-bb8b-4e45-f7c6-1120cc4849e0"
      },
      "execution_count": 13,
      "outputs": [
        {
          "output_type": "execute_result",
          "data": {
            "text/plain": [
              "(0.4508017549014448, 6.590000000000001)"
            ]
          },
          "metadata": {},
          "execution_count": 13
        }
      ]
    },
    {
      "cell_type": "code",
      "source": [
        "t1 = stats.t.ppf(alpha / 2, df=n-1)\n",
        "t2 = stats.t.ppf(1 - alpha / 2, df=n-1)\n",
        "t1, t2"
      ],
      "metadata": {
        "colab": {
          "base_uri": "https://localhost:8080/"
        },
        "id": "nCvXdl2TObYI",
        "outputId": "6bc44e91-df8b-4a7b-d546-0c5f2db54d31"
      },
      "execution_count": 14,
      "outputs": [
        {
          "output_type": "execute_result",
          "data": {
            "text/plain": [
              "(-2.2621571627409915, 2.2621571627409915)"
            ]
          },
          "metadata": {},
          "execution_count": 14
        }
      ]
    },
    {
      "cell_type": "code",
      "source": [
        "left = mean + t1 * sigma / np.sqrt(n)\n",
        "right = mean + t2 *sigma / np.sqrt(n)\n",
        "left, right"
      ],
      "metadata": {
        "colab": {
          "base_uri": "https://localhost:8080/"
        },
        "id": "T2n3TH6DTMX8",
        "outputId": "a1827859-0f8d-4746-8d14-c2e243400a2b"
      },
      "execution_count": 15,
      "outputs": [
        {
          "output_type": "execute_result",
          "data": {
            "text/plain": [
              "(6.267515851415713, 6.912484148584288)"
            ]
          },
          "metadata": {},
          "execution_count": 15
        }
      ]
    },
    {
      "cell_type": "markdown",
      "source": [
        "Задача 3. Рост дочерей 175, 167, 154, 174, 178, 148, 160, 167, 169, 170 Рост матерей  178, 165, 165, 173, 168, 155, 160, 164, 178, 175 Используя эти данные построить 95% доверительный интервал для разности среднего роста родителей и детей."
      ],
      "metadata": {
        "id": "bM4kftsTMPaO"
      }
    },
    {
      "cell_type": "code",
      "source": [
        "import numpy as np\n",
        "\n",
        "x = np.array([175, 167, 154, 174, 178, 148, 160, 167, 169, 170])\n",
        "y = np.array([178, 165, 165, 173, 168, 155, 160, 164, 178, 175])\n",
        "\n",
        "n1 = x.shape[0]\n",
        "n2 = y.shape[0]"
      ],
      "metadata": {
        "id": "W19pOWBgPmXG"
      },
      "execution_count": 16,
      "outputs": []
    },
    {
      "cell_type": "code",
      "source": [
        "d1 = x.var(ddof = 1)\n",
        "d2 = y.var(ddof = 1)\n",
        "\n",
        "d = (d1 + d2) / 2\n",
        "s_delta = np.sqrt(d / n1 + d / n2)\n",
        "d1, d2, d, s_delta"
      ],
      "metadata": {
        "colab": {
          "base_uri": "https://localhost:8080/"
        },
        "id": "sbsHa2PoP49g",
        "outputId": "440e5ae7-3b46-4421-e860-754ee128628f"
      },
      "execution_count": 17,
      "outputs": [
        {
          "output_type": "execute_result",
          "data": {
            "text/plain": [
              "(91.06666666666666, 60.10000000000001, 75.58333333333334, 3.8880157750022915)"
            ]
          },
          "metadata": {},
          "execution_count": 17
        }
      ]
    },
    {
      "cell_type": "code",
      "source": [
        "p = 0.95\n",
        "alpha = 1 - p\n",
        "\n",
        "t1 = stats.t.ppf(alpha / 2, df = 2 * (n1 - 1))\n",
        "t2 = stats.t.ppf(1 - alpha / 2, df = 2 * (n1 - 1))\n",
        "t1, t2"
      ],
      "metadata": {
        "colab": {
          "base_uri": "https://localhost:8080/"
        },
        "id": "aM23pjcVQjth",
        "outputId": "6335dda0-4494-4edf-a625-ce7ecdf15e7a"
      },
      "execution_count": 18,
      "outputs": [
        {
          "output_type": "execute_result",
          "data": {
            "text/plain": [
              "(-2.10092204024096, 2.10092204024096)"
            ]
          },
          "metadata": {},
          "execution_count": 18
        }
      ]
    },
    {
      "cell_type": "code",
      "source": [
        "left = x.mean() - y.mean() + t1 * s_delta\n",
        "right = x.mean() - y.mean() + t2 * s_delta\n",
        "left, right"
      ],
      "metadata": {
        "colab": {
          "base_uri": "https://localhost:8080/"
        },
        "id": "0_CFIuU5VQ0z",
        "outputId": "8dfc6820-2859-476f-b7b2-1036a70bf224"
      },
      "execution_count": 19,
      "outputs": [
        {
          "output_type": "execute_result",
          "data": {
            "text/plain": [
              "(-10.068418034506857, 6.268418034506846)"
            ]
          },
          "metadata": {},
          "execution_count": 19
        }
      ]
    },
    {
      "cell_type": "code",
      "source": [
        "x.mean(), y.mean()"
      ],
      "metadata": {
        "colab": {
          "base_uri": "https://localhost:8080/"
        },
        "id": "0DT80uh0VwsE",
        "outputId": "e6ac8f61-7e3b-476f-ed8c-302b65df3add"
      },
      "execution_count": 20,
      "outputs": [
        {
          "output_type": "execute_result",
          "data": {
            "text/plain": [
              "(166.2, 168.1)"
            ]
          },
          "metadata": {},
          "execution_count": 20
        }
      ]
    }
  ]
}