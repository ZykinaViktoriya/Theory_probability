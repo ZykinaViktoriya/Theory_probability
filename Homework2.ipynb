{
  "nbformat": 4,
  "nbformat_minor": 0,
  "metadata": {
    "colab": {
      "provenance": [],
      "authorship_tag": "ABX9TyPi0UtNrCigc7D/6zPTn8Q8",
      "include_colab_link": true
    },
    "kernelspec": {
      "name": "python3",
      "display_name": "Python 3"
    },
    "language_info": {
      "name": "python"
    }
  },
  "cells": [
    {
      "cell_type": "markdown",
      "metadata": {
        "id": "view-in-github",
        "colab_type": "text"
      },
      "source": [
        "<a href=\"https://colab.research.google.com/github/ZykinaViktoriya/Theory_probability/blob/main/Homework2.ipynb\" target=\"_parent\"><img src=\"https://colab.research.google.com/assets/colab-badge.svg\" alt=\"Open In Colab\"/></a>"
      ]
    },
    {
      "cell_type": "code",
      "source": [
        "import pandas as pd\n",
        "import numpy as np\n",
        "from math import factorial as fl"
      ],
      "metadata": {
        "id": "oay0_DkqkD53"
      },
      "execution_count": 1,
      "outputs": []
    },
    {
      "cell_type": "markdown",
      "source": [
        "**Задача 1. Вероятность того, что стрелок попадет в мишень, выстрелив один раз, равна 0.8. Стрелок выстрелил 100 раз. Найдите вероятность того, что стрелок попадет в цель ровно 85 раз**"
      ],
      "metadata": {
        "id": "wfwI5gS-j2eh"
      }
    },
    {
      "cell_type": "markdown",
      "source": [
        "- k = 85\n",
        "\n",
        "- n = 100\n",
        "\n",
        "- p = 0.8\n",
        "\n",
        "- q = 1 - p = 1 - 0.8 = 0.2\n"
      ],
      "metadata": {
        "id": "qsEWTTY9j-Br"
      }
    },
    {
      "cell_type": "code",
      "source": [
        "P100 = (fl(100) / (fl(85) * fl(100 - 85))) * 0.8 ** 85 * 0.2 ** (100 - 85)\n",
        "print(f'Вероятность того, что стрелок из ста выстрелов попадет в мишень ровно 85 раз = {P100 :.4f}')"
      ],
      "metadata": {
        "colab": {
          "base_uri": "https://localhost:8080/"
        },
        "id": "6fmmdHhlj67L",
        "outputId": "0919631d-c25e-4bcb-f21b-98c2deddd1ce"
      },
      "execution_count": 2,
      "outputs": [
        {
          "output_type": "stream",
          "name": "stdout",
          "text": [
            "Вероятность того, что стрелок из ста выстрелов попадет в мишень ровно 85 раз = 0.0481\n"
          ]
        }
      ]
    },
    {
      "cell_type": "markdown",
      "source": [
        "**Задача 2. Вероятность того, что лампочка перегорит в течение первого дня эксплуатации, равна 0.0004. В жилом комплексе после ремонта в один день включили 5000 новых лампочек. Какова вероятность, что ни одна из них не перегорит в первый день? Какова вероятность, что перегорят ровно две?**"
      ],
      "metadata": {
        "id": "El-JlOGxkZRB"
      }
    },
    {
      "cell_type": "code",
      "source": [
        "P = 1 - (1 - 0.0004) ** 5000\n",
        "\n",
        "print(f'Вероятность того, что не перегорит ни одна лампочка = {P :.3f}')"
      ],
      "metadata": {
        "colab": {
          "base_uri": "https://localhost:8080/"
        },
        "id": "IfPMIoi1kfcT",
        "outputId": "3630a1f3-3cb9-47ac-bff1-8b308f22f16b"
      },
      "execution_count": 3,
      "outputs": [
        {
          "output_type": "stream",
          "name": "stdout",
          "text": [
            "Вероятность того, что не перегорит ни одна лампочка = 0.865\n"
          ]
        }
      ]
    },
    {
      "cell_type": "markdown",
      "source": [
        "**Задача 3. Монету подбросили 144 раза. Какова вероятность, что орел выпадет ровно 70 раз?**"
      ],
      "metadata": {
        "id": "2iQcY-wckhcL"
      }
    },
    {
      "cell_type": "markdown",
      "source": [
        "n = 144\n",
        "\n",
        "k = 70\n",
        "\n",
        "p = 0.5\n",
        "\n",
        "q = 0.5"
      ],
      "metadata": {
        "id": "k_52Yesmkos9"
      }
    },
    {
      "cell_type": "code",
      "source": [
        "P144 = (fl(144) / (fl(70) * fl(144 - 70))) * 0.5 ** 70 * 0.5 ** (144 - 70)\n",
        "\n",
        "print(f'Вероятность того, что орел выпадет ровно 70 раз = {P144 :.4f}')"
      ],
      "metadata": {
        "colab": {
          "base_uri": "https://localhost:8080/"
        },
        "id": "1_MmRj2kkmZX",
        "outputId": "903abd99-5de1-499e-eaf7-4266f26786f2"
      },
      "execution_count": 4,
      "outputs": [
        {
          "output_type": "stream",
          "name": "stdout",
          "text": [
            "Вероятность того, что орел выпадет ровно 70 раз = 0.0628\n"
          ]
        }
      ]
    },
    {
      "cell_type": "markdown",
      "source": [
        "**Задача 4. В первом ящике находится 10 мячей, из которых 7 - белые. Во втором ящике - 11 мячей, из которых 9 белых. Из каждого ящика вытаскивают случайным образом по два мяча. Какова вероятность того, что все мячи белые? Какова вероятность того, что ровно два мяча белые? Какова вероятность того, что хотя бы один мяч белый?**"
      ],
      "metadata": {
        "id": "co5n16jJkueB"
      }
    },
    {
      "cell_type": "markdown",
      "source": [
        "А1 - мячи, вынутые из первого ящика все белые\n",
        "\n",
        "А2 - мячи, вынутые из второго ящика все белые\n",
        "\n",
        "А = А1 * А2 - все мячи белые\n",
        "\n"
      ],
      "metadata": {
        "id": "mXV9zLdTk0IP"
      }
    },
    {
      "cell_type": "code",
      "source": [
        "PA1 = (fl(7) / (fl(2)*fl(7 - 2))) / (fl(10) / (fl(2)*fl(10 - 2)))\n",
        "PA2 = (fl(9) / (fl(2)*fl(9 - 2))) / (fl(11) / (fl(2)*fl(11 - 2)))\n",
        "print(f'Вероятность того, что все мячи белые = {PA1 * PA2 :.3f}')"
      ],
      "metadata": {
        "colab": {
          "base_uri": "https://localhost:8080/"
        },
        "id": "BYpq-lxbk17E",
        "outputId": "17355735-18cb-406f-ab1a-979ecb949568"
      },
      "execution_count": 5,
      "outputs": [
        {
          "output_type": "stream",
          "name": "stdout",
          "text": [
            "Вероятность того, что все мячи белые = 0.305\n"
          ]
        }
      ]
    },
    {
      "cell_type": "markdown",
      "source": [
        "A11 - из первого ящика вынули два белых мяча\n",
        "\n",
        "А12 - из второго ящика вынули только черные мячи\n",
        "\n",
        "А21 - из второго ящика вынули два белых мяча\n",
        "\n",
        "А22 - из первого ящика вынули только черные мячи\n",
        "\n",
        "А31 - из первого ящика вынули один белый мячи\n",
        "\n",
        "А32 - из второго ящика вынули один белый мячи\n",
        "\n",
        "А = А11 * А12 + А21 * А22 + А31 * А32 - вынули ровно два белых мяча\n",
        "\n"
      ],
      "metadata": {
        "id": "es51edlBk7K0"
      }
    },
    {
      "cell_type": "code",
      "source": [
        "PA11A12 =  (fl(7) / (fl(2)*fl(7 - 2))) / (fl(10) / (fl(2)*fl(10 - 2))) * (fl(2) / (fl(2)*fl(2 - 2))) / (fl(11) / (fl(2)*fl(11 - 2)))\n",
        "print(PA11A12)"
      ],
      "metadata": {
        "colab": {
          "base_uri": "https://localhost:8080/"
        },
        "id": "p4zk6-7MlGnP",
        "outputId": "7f9e462b-e7e5-4f57-b220-953e888716cd"
      },
      "execution_count": 11,
      "outputs": [
        {
          "output_type": "stream",
          "name": "stdout",
          "text": [
            "0.008484848484848486\n"
          ]
        }
      ]
    },
    {
      "cell_type": "code",
      "source": [
        "PA21A22 = (fl(3) / (fl(2)*fl(3 - 2))) / (fl(10) / (fl(2)*fl(10 - 2))) * (fl(9) / (fl(2)*fl(9 - 2))) / (fl(11) / (fl(2)*fl(11 - 2)))\n",
        "print(PA21A22)"
      ],
      "metadata": {
        "colab": {
          "base_uri": "https://localhost:8080/"
        },
        "id": "ivZObE_ylLsx",
        "outputId": "bf21f6e3-d9c0-4e73-ed4c-3cc303179ba3"
      },
      "execution_count": 12,
      "outputs": [
        {
          "output_type": "stream",
          "name": "stdout",
          "text": [
            "0.04363636363636363\n"
          ]
        }
      ]
    },
    {
      "cell_type": "code",
      "source": [
        "PA31 = (fl(7) / (fl(1)*fl(7 - 1)) * fl(3)) / (fl(1)*fl(3 - 1)) / (fl(10) / (fl(2)*fl(10 - 2)))\n",
        "print(PA31)\n",
        "PA32 = (fl(9) / (fl(1)*fl(9 - 1)) * fl(2)) / (fl(1)*fl(2 - 1)) / (fl(11) / (fl(2)*fl(11 - 2)))\n",
        "print(PA32)"
      ],
      "metadata": {
        "colab": {
          "base_uri": "https://localhost:8080/"
        },
        "id": "WJFXTYsSlVGj",
        "outputId": "8eb37f79-7711-437c-da26-9341b3c1101e"
      },
      "execution_count": 13,
      "outputs": [
        {
          "output_type": "stream",
          "name": "stdout",
          "text": [
            "0.4666666666666667\n",
            "0.32727272727272727\n"
          ]
        }
      ]
    },
    {
      "cell_type": "code",
      "source": [
        "PA = PA11A12 + PA21A22 + PA31 * PA32\n",
        "print(f'Вероятность того, что вынут ровно два белых мяча = {PA :.3f}')"
      ],
      "metadata": {
        "colab": {
          "base_uri": "https://localhost:8080/"
        },
        "id": "4Nwm6798lrhD",
        "outputId": "749561d1-30b5-4ab1-debb-6a17eb47c191"
      },
      "execution_count": 14,
      "outputs": [
        {
          "output_type": "stream",
          "name": "stdout",
          "text": [
            "Вероятность того, что вынут ровно два белых мяча = 0.205\n"
          ]
        }
      ]
    },
    {
      "cell_type": "code",
      "source": [
        "PA = 1 - (fl(3) / (fl(2)*fl(3 - 2))) / (fl(10) / (fl(2)*fl(10 - 2))) * (fl(2) / (fl(2)*fl(2 - 2))) / (fl(11) / (fl(2)*fl(11 - 2)))\n",
        "print(f'Вероятность того, что вытянут хотя бы один белый мяч = {PA :.3f}')"
      ],
      "metadata": {
        "colab": {
          "base_uri": "https://localhost:8080/"
        },
        "id": "kP1B9TRtltza",
        "outputId": "8da92207-cf8a-42a5-cafb-099a6c6c412f"
      },
      "execution_count": 15,
      "outputs": [
        {
          "output_type": "stream",
          "name": "stdout",
          "text": [
            "Вероятность того, что вытянут хотя бы один белый мяч = 0.999\n"
          ]
        }
      ]
    }
  ]
}